{
 "cells": [
  {
   "cell_type": "markdown",
   "metadata": {},
   "source": [
    "## Project 01\n",
    "\n",
    "**Belle Erhardt**\n",
    "\n",
    "**DSCI 35600 - Machine Learning**"
   ]
  },
  {
   "cell_type": "markdown",
   "metadata": {},
   "source": [
    "## Part A: Import Packages and Load Dataset"
   ]
  },
  {
   "cell_type": "markdown",
   "metadata": {},
   "source": [
    "In the cell below, import the following packages using the standard aliases: `numpy`, `matplotlib.pyplot`, and `pandas`. Also import the following classes and functions from `sklearn`: `train_test_split`, `LogisticRegression`, `KNeighborsClassifier`, `DecisionTreeClassifier`, `RandomForestClassifier`, `StandardScaler`, and `OneHotEncoder`.  "
   ]
  },
  {
   "cell_type": "code",
   "execution_count": 1,
   "metadata": {},
   "outputs": [],
   "source": [
    "import numpy as np\n",
    "import matplotlib.pyplot as plt\n",
    "import pandas as pd\n",
    "\n",
    "from sklearn.linear_model import LogisticRegression\n",
    "from sklearn.neighbors import KNeighborsClassifier\n",
    "from sklearn.tree import DecisionTreeClassifier\n",
    "from sklearn.ensemble import RandomForestClassifier\n",
    "\n",
    "from sklearn.model_selection import train_test_split\n",
    "from sklearn.preprocessing import OneHotEncoder\n",
    "from sklearn.preprocessing import StandardScaler"
   ]
  },
  {
   "cell_type": "markdown",
   "metadata": {},
   "source": [
    "Use `pandas` to load the contents of the tab-separated file `hw_11_data.txt` into a dataframe called `df`. Display the first 10 rows of this dataframe."
   ]
  },
  {
   "cell_type": "code",
   "execution_count": 2,
   "metadata": {},
   "outputs": [
    {
     "data": {
      "text/html": [
       "<div>\n",
       "<style scoped>\n",
       "    .dataframe tbody tr th:only-of-type {\n",
       "        vertical-align: middle;\n",
       "    }\n",
       "\n",
       "    .dataframe tbody tr th {\n",
       "        vertical-align: top;\n",
       "    }\n",
       "\n",
       "    .dataframe thead th {\n",
       "        text-align: right;\n",
       "    }\n",
       "</style>\n",
       "<table border=\"1\" class=\"dataframe\">\n",
       "  <thead>\n",
       "    <tr style=\"text-align: right;\">\n",
       "      <th></th>\n",
       "      <th>F1</th>\n",
       "      <th>F2</th>\n",
       "      <th>F3</th>\n",
       "      <th>F4</th>\n",
       "      <th>F5</th>\n",
       "      <th>y</th>\n",
       "    </tr>\n",
       "  </thead>\n",
       "  <tbody>\n",
       "    <tr>\n",
       "      <th>0</th>\n",
       "      <td>15.69</td>\n",
       "      <td>-0.771</td>\n",
       "      <td>550.880459</td>\n",
       "      <td>P</td>\n",
       "      <td>D</td>\n",
       "      <td>0</td>\n",
       "    </tr>\n",
       "    <tr>\n",
       "      <th>1</th>\n",
       "      <td>-16.81</td>\n",
       "      <td>1.959</td>\n",
       "      <td>588.523801</td>\n",
       "      <td>Q</td>\n",
       "      <td>C</td>\n",
       "      <td>3</td>\n",
       "    </tr>\n",
       "    <tr>\n",
       "      <th>2</th>\n",
       "      <td>21.09</td>\n",
       "      <td>-1.550</td>\n",
       "      <td>660.881834</td>\n",
       "      <td>P</td>\n",
       "      <td>B</td>\n",
       "      <td>2</td>\n",
       "    </tr>\n",
       "    <tr>\n",
       "      <th>3</th>\n",
       "      <td>15.64</td>\n",
       "      <td>-1.623</td>\n",
       "      <td>374.414543</td>\n",
       "      <td>Q</td>\n",
       "      <td>C</td>\n",
       "      <td>0</td>\n",
       "    </tr>\n",
       "    <tr>\n",
       "      <th>4</th>\n",
       "      <td>14.25</td>\n",
       "      <td>1.426</td>\n",
       "      <td>446.714120</td>\n",
       "      <td>Q</td>\n",
       "      <td>B</td>\n",
       "      <td>0</td>\n",
       "    </tr>\n",
       "    <tr>\n",
       "      <th>5</th>\n",
       "      <td>21.54</td>\n",
       "      <td>1.231</td>\n",
       "      <td>525.126448</td>\n",
       "      <td>P</td>\n",
       "      <td>D</td>\n",
       "      <td>2</td>\n",
       "    </tr>\n",
       "    <tr>\n",
       "      <th>6</th>\n",
       "      <td>-14.05</td>\n",
       "      <td>1.608</td>\n",
       "      <td>343.264320</td>\n",
       "      <td>P</td>\n",
       "      <td>B</td>\n",
       "      <td>3</td>\n",
       "    </tr>\n",
       "    <tr>\n",
       "      <th>7</th>\n",
       "      <td>-21.52</td>\n",
       "      <td>-1.858</td>\n",
       "      <td>549.753447</td>\n",
       "      <td>Q</td>\n",
       "      <td>B</td>\n",
       "      <td>1</td>\n",
       "    </tr>\n",
       "    <tr>\n",
       "      <th>8</th>\n",
       "      <td>12.31</td>\n",
       "      <td>-0.941</td>\n",
       "      <td>507.148376</td>\n",
       "      <td>Q</td>\n",
       "      <td>D</td>\n",
       "      <td>0</td>\n",
       "    </tr>\n",
       "    <tr>\n",
       "      <th>9</th>\n",
       "      <td>-24.83</td>\n",
       "      <td>-1.940</td>\n",
       "      <td>627.040100</td>\n",
       "      <td>Q</td>\n",
       "      <td>B</td>\n",
       "      <td>1</td>\n",
       "    </tr>\n",
       "  </tbody>\n",
       "</table>\n",
       "</div>"
      ],
      "text/plain": [
       "      F1     F2          F3 F4 F5  y\n",
       "0  15.69 -0.771  550.880459  P  D  0\n",
       "1 -16.81  1.959  588.523801  Q  C  3\n",
       "2  21.09 -1.550  660.881834  P  B  2\n",
       "3  15.64 -1.623  374.414543  Q  C  0\n",
       "4  14.25  1.426  446.714120  Q  B  0\n",
       "5  21.54  1.231  525.126448  P  D  2\n",
       "6 -14.05  1.608  343.264320  P  B  3\n",
       "7 -21.52 -1.858  549.753447  Q  B  1\n",
       "8  12.31 -0.941  507.148376  Q  D  0\n",
       "9 -24.83 -1.940  627.040100  Q  B  1"
      ]
     },
     "execution_count": 2,
     "metadata": {},
     "output_type": "execute_result"
    }
   ],
   "source": [
    "df = pd.read_csv('Project01_data.txt', sep='\\t')\n",
    "df.head(10)"
   ]
  },
  {
   "cell_type": "markdown",
   "metadata": {},
   "source": [
    "Your goal in this assignment will be to use features F1 - F6 to predict one of four possible values for y: 0, 1, 2, or 3. "
   ]
  },
  {
   "cell_type": "markdown",
   "metadata": {},
   "source": [
    "## Part B: Preparing the Data\n",
    "\n",
    "In the cell below, create the following arrays:\n",
    "\n",
    "* `X_num` should contain the columns of `df` associated with numerical variables. \n",
    "* `X_cat` should contain the columns of `df` associated with categorical variables. \n",
    "* `y` should be a 1D array contain the values of the label, `y`. \n",
    "\n",
    "Print the shapes of these three arrays."
   ]
  },
  {
   "cell_type": "code",
   "execution_count": 5,
   "metadata": {},
   "outputs": [
    {
     "name": "stdout",
     "output_type": "stream",
     "text": [
      "(467, 3)\n",
      "(467, 2)\n",
      "(467,)\n"
     ]
    }
   ],
   "source": [
    "X_num = df.iloc[:,:3].values\n",
    "X_cat = df.iloc[:,[3,4]].values\n",
    "y = df.iloc[:,-1]\n",
    "\n",
    "print(X_num.shape)\n",
    "print(X_cat.shape)\n",
    "print(y.shape)"
   ]
  },
  {
   "cell_type": "markdown",
   "metadata": {},
   "source": [
    "#### Numerical Features\n",
    "Split `Xnum` into training and validation sets called `X_num_train` and `X_num_val`. Use an 80/20 split, and set `random_state=1`. \n",
    "\n",
    "Then use the `StandardScaler` class to scale the numerical data. Name the resulting arrays `X_sca_train` and `X_sca_val`. Print the shape of these two arrays. "
   ]
  },
  {
   "cell_type": "code",
   "execution_count": 12,
   "metadata": {},
   "outputs": [],
   "source": [
    "X_num_train, X_num_val, y_num_train, y_num_val = train_test_split(X_num, y, test_size=0.2, random_state=1)\n",
    "s_scaler = StandardScaler()\n",
    "\n",
    "X_sca_train = s_scaler.fit_transform(X_num_train)\n",
    "X_sca_val = s_scaler.fit_transform(X_num_val)"
   ]
  },
  {
   "cell_type": "markdown",
   "metadata": {},
   "source": [
    "#### Categorical Features\n",
    "\n",
    "Use the `OneHotEncoder` class to encode the categorical feature array (setting `sparse=False`). Store the results in an array called `X_enc`. \n",
    "\n",
    "Split `X_enc` into training and validation sets called `X_enc_train` and `X_enc_val`. Use an 80/20 split, and set `random_state=1`. Print the shapes of these two arrays."
   ]
  },
  {
   "cell_type": "code",
   "execution_count": 13,
   "metadata": {},
   "outputs": [],
   "source": [
    "enc = OneHotEncoder(sparse=False)\n",
    "X_enc = enc.fit_transform(X_cat)\n",
    "\n",
    "X_enc_train, X_enc_val, y_enc_train, y_enc_val = train_test_split(X_enc, y, test_size=0.2, random_state=1)\n"
   ]
  },
  {
   "cell_type": "markdown",
   "metadata": {},
   "source": [
    "#### Combine Numerical and Categorial Features\n",
    "\n",
    "Use `np.hstack()` to combine `X_sca_train` and `X_enc_train` into an array called `X_train`. Then combine `X_sca_val` and `X_enc_val` into an array called `X_val`. Print the shapes of the two new arrays."
   ]
  },
  {
   "cell_type": "code",
   "execution_count": 23,
   "metadata": {},
   "outputs": [
    {
     "name": "stdout",
     "output_type": "stream",
     "text": [
      "(94, 9)\n",
      "(373, 9)\n"
     ]
    }
   ],
   "source": [
    "X_train = np.hstack([X_sca_train, X_enc_train])\n",
    "X_val = np.hstack([X_sca_val, X_enc_val])\n",
    "print(X_val.shape)\n",
    "print(X_train.shape)"
   ]
  },
  {
   "cell_type": "markdown",
   "metadata": {},
   "source": [
    "## Part C: Logistic Regression Model\n",
    "\n",
    "In the cell below, create and fit several logistic regression models, each with a different value for the regularization parameter `C`. In particular, consider 100 models with `C=10**k`, where `k` ranges from -4 to 0. For each model, log the training and validation accuracies in separate lists, and then plot these lists against `k`. Display a legend for your plot. \n",
    "\n",
    "Set `solver='lbfgs'` and `multi_class='ovr'` when creating your logistic regression models. "
   ]
  },
  {
   "cell_type": "code",
   "execution_count": 63,
   "metadata": {},
   "outputs": [
    {
     "data": {
      "image/png": "[encoded data removed]",
      "text/plain": [
       "<Figure size 288x792 with 1 Axes>"
      ]
     },
     "metadata": {
      "needs_background": "light"
     },
     "output_type": "display_data"
    }
   ],
   "source": [
    "validation_accuracy = []\n",
    "training_accuracy = []\n",
    "rng = range(-4 ,0)\n",
    "\n",
    "for d in rng:\n",
    "    model = LogisticRegression(C=10** k,solver='lbfgs', random_state=1, multi_class='ovr' )\n",
    "    model.fit(X_train, y_num_train)\n",
    "    model.fit(X_val, y_num_val)\n",
    "    validation_accuracy.append(model.score(X_train, y_num_train))\n",
    "    training_accuracy.append(model.score(X_train, y_num_train))\n",
    "    \n",
    "\n",
    "    \n",
    "plt.figure(figsize=([4,11]))\n",
    "plt.plot(rng, training_accuracy, label='Training Accuracy')\n",
    "plt.plot(rng, validation_accuracy, label='Validation Accuracy')\n",
    "plt.xlabel('Maximum Depth')\n",
    "plt.ylabel('Accuracy')\n",
    "plt.xticks(rng)\n",
    "plt.legend()\n",
    "plt.show()"
   ]
  },
  {
   "cell_type": "markdown",
   "metadata": {},
   "source": [
    "Use `np.argmax` to find the value of `k` that results in the largest validation accuracy. Print this result."
   ]
  },
  {
   "cell_type": "code",
   "execution_count": 29,
   "metadata": {},
   "outputs": [
    {
     "name": "stdout",
     "output_type": "stream",
     "text": [
      "-1\n"
     ]
    }
   ],
   "source": [
    "k = np.argmax(validation_accuracy)-4\n",
    "print(k)"
   ]
  },
  {
   "cell_type": "markdown",
   "metadata": {},
   "source": [
    "Create a logistic regression model using the previously determined value for the regularization parameter. Print the training and validation accuracies for this model, clearly indicating which is which."
   ]
  },
  {
   "cell_type": "code",
   "execution_count": 50,
   "metadata": {},
   "outputs": [
    {
     "name": "stdout",
     "output_type": "stream",
     "text": [
      "Validation Accuracies: 0.3672922252010724\n",
      "Training Accuracies: 0.3672922252010724\n"
     ]
    }
   ],
   "source": [
    "logisticM = LogisticRegression(C=10** -1,solver='lbfgs', random_state=1, multi_class='ovr' )\n",
    "logisticM.fit(X_train, y_num_train)\n",
    "logisticM.fit(X_val, y_num_val)\n",
    "print(\"Validation Accuracies:\", logisticM.score(X_train, y_num_train))\n",
    "print(\"Training Accuracies:\",logisticM.score(X_train, y_num_train))\n"
   ]
  },
  {
   "cell_type": "markdown",
   "metadata": {},
   "source": [
    "## Part D: Decision Tree Model\n",
    "\n",
    "In the cell below, create and fit several decision tree models, each with a different value for the `max_depth` parameter. In particular, consider models for every value of max_depth from 1 to 20. For each model, log the training and validation accuracies in separate lists, and then plot these lists against the max depth. Display a legend for your plot. \n",
    "\n",
    "Set a seed of 1 prior to training each of your models. This should be inside of your loop. "
   ]
  },
  {
   "cell_type": "code",
   "execution_count": 34,
   "metadata": {},
   "outputs": [
    {
     "data": {
      "image/png": "[encoded data removed]",
      "text/plain": [
       "<Figure size 792x432 with 1 Axes>"
      ]
     },
     "metadata": {
      "needs_background": "light"
     },
     "output_type": "display_data"
    }
   ],
   "source": [
    "training_acc = []\n",
    "validation_acc = []\n",
    "\n",
    "rng = range(1,20)\n",
    "\n",
    "for d in rng:\n",
    "    temp_mod = DecisionTreeClassifier(max_depth=d, min_samples_leaf=10, criterion='gini', random_state=1)\n",
    "    temp_mod.fit(X_train, y_num_train)\n",
    "    training_acc.append(temp_mod.score(X_train, y_num_train))\n",
    "    validation_acc.append(temp_mod.score(X_val, y_num_val))\n",
    "\n",
    "plt.figure(figsize=([11, 6]))\n",
    "plt.plot(rng, training_acc, label='Training Accuracy')\n",
    "plt.plot(rng, validation_acc, label='Validation Accuracy')\n",
    "plt.xlabel('Maximum Depth')\n",
    "plt.ylabel('Accuracy')\n",
    "plt.xticks(rng)\n",
    "plt.legend()\n",
    "plt.show()"
   ]
  },
  {
   "cell_type": "markdown",
   "metadata": {},
   "source": [
    "Use `np.argmax` to find the value of `max_depth` that results in the largest validation accuracy. Print this result. "
   ]
  },
  {
   "cell_type": "code",
   "execution_count": 39,
   "metadata": {},
   "outputs": [
    {
     "name": "stdout",
     "output_type": "stream",
     "text": [
      "0.7872340425531915\n",
      "6\n"
     ]
    }
   ],
   "source": [
    "max_depth = validation_acc[np.argmax(validation_acc)]\n",
    "print(max_depth)"
   ]
  },
  {
   "cell_type": "markdown",
   "metadata": {},
   "source": [
    "Create a tree model using the previously determined value of `max_depth`. Print the training and validation accuracies for this model, clearly indicating which is which.\n",
    "\n",
    "Set a seed of 1 at the beginning of this cell."
   ]
  },
  {
   "cell_type": "code",
   "execution_count": 42,
   "metadata": {},
   "outputs": [
    {
     "name": "stdout",
     "output_type": "stream",
     "text": [
      "Validation Accuracies: 0.7446808510638298\n",
      "Training Accuracies: 0.8310991957104558\n"
     ]
    }
   ],
   "source": [
    "TreeModel = DecisionTreeClassifier(max_depth=6, min_samples_leaf=10, criterion='gini', random_state=1)\n",
    "TreeModel.fit(X_train, y_num_train)\n",
    "\n",
    "print(\"Validation Accuracies:\", TreeModel.score(X_val, y_num_val))\n",
    "print(\"Training Accuracies:\",TreeModel.score(X_train, y_num_train))\n"
   ]
  },
  {
   "cell_type": "markdown",
   "metadata": {},
   "source": [
    "## Part E: Random Forest Model\n",
    "\n",
    "In the cell below, create and fit several random forest models, each with a different value for the `max_depth` parameter. In particular, consider models for every value of max_depth from 1 to 20. Set `n_estimators=200` for each model. After training each model, log the training and validation accuracies in seperate lists, and then plot these lists against the max depth. Label your axes, and display a legend for your plot. \n",
    "\n",
    "Set a seed of 1 prior to training each of your models. This should be inside of your loop. "
   ]
  },
  {
   "cell_type": "code",
   "execution_count": 46,
   "metadata": {},
   "outputs": [
    {
     "name": "stdout",
     "output_type": "stream",
     "text": [
      "Out of bag score: 0.9276139410187667\n",
      "[0.38605898123324395, 0.868632707774799, 0.9329758713136729, 0.9463806970509383, 0.9544235924932976, 0.9758713136729222, 0.967828418230563, 0.967828418230563, 0.9705093833780161, 0.9705093833780161, 0.9705093833780161, 0.9731903485254692, 0.9651474530831099, 0.9705093833780161, 0.9731903485254692, 0.9731903485254692, 0.9705093833780161, 0.9785522788203753, 0.967828418230563]\n",
      "[0.3829787234042553, 0.8085106382978723, 0.8829787234042553, 0.9042553191489362, 0.8936170212765957, 0.8936170212765957, 0.925531914893617, 0.9042553191489362, 0.8936170212765957, 0.9148936170212766, 0.8936170212765957, 0.9042553191489362, 0.9042553191489362, 0.8829787234042553, 0.9042553191489362, 0.9042553191489362, 0.8936170212765957, 0.9042553191489362, 0.9042553191489362]\n"
     ]
    }
   ],
   "source": [
    "from sklearn.ensemble import BaggingClassifier\n",
    "t_acc = []\n",
    "v_acc = []\n",
    "\n",
    "np.random.seed(1)\n",
    "rng = range(1,20)\n",
    "\n",
    "for d in rng:\n",
    "    #temp_mod = DecisionTreeClassifier(max_depth=d, min_samples_leaf=10, criterion='gini', random_state=1)\n",
    "    rfmodel = BaggingClassifier(DecisionTreeClassifier(max_depth=d, splitter='random', max_leaf_nodes=32),\n",
    "    n_estimators=200, max_samples=0.5, bootstrap=True, oob_score = True)\n",
    "\n",
    "    rfmodel.fit(X_train, y_num_train)\n",
    "    \n",
    "    t_acc.append(rfmodel.score(X_train, y_num_train))\n",
    "    v_acc.append(rfmodel.score(X_val, y_num_val))\n",
    "    \n",
    "\n",
    "print('Out of bag score:', rfmodel.oob_score_)\n",
    "\n",
    "print(t_acc)\n",
    "print(v_acc)"
   ]
  },
  {
   "cell_type": "markdown",
   "metadata": {},
   "source": [
    "Use `np.argmax` to find the value of `max_depth` that results in the largest validation accuracy. Print this result. "
   ]
  },
  {
   "cell_type": "code",
   "execution_count": 47,
   "metadata": {},
   "outputs": [
    {
     "name": "stdout",
     "output_type": "stream",
     "text": [
      "6\n"
     ]
    }
   ],
   "source": [
    "max_depth = np.argmax(v_acc)\n",
    "print(max_depth)"
   ]
  },
  {
   "cell_type": "markdown",
   "metadata": {},
   "source": [
    "Create a random forest model using the previously determined value of `max_depth` and `n_estimators=200`. Print the training and validation accuracies for this model, clearly indicating which is which.\n",
    "\n",
    "Set a seed of 1 at the beginning of this cell."
   ]
  },
  {
   "cell_type": "code",
   "execution_count": 48,
   "metadata": {},
   "outputs": [
    {
     "name": "stdout",
     "output_type": "stream",
     "text": [
      "Validation Accuracies: 0.9042553191489362\n",
      "Training Accuracies: 0.9571045576407506\n"
     ]
    }
   ],
   "source": [
    "np.random.seed(1)\n",
    "rfmodel2 = BaggingClassifier(DecisionTreeClassifier(max_depth=6, splitter='random', max_leaf_nodes=32),n_estimators=200, max_samples=0.5, bootstrap=True, oob_score = True)\n",
    "rfmodel2.fit(X_train, y_num_train)\n",
    "\n",
    "print(\"Validation Accuracies:\", rfmodel2.score(X_val, y_num_val))\n",
    "print(\"Training Accuracies:\",rfmodel2.score(X_train, y_num_train))"
   ]
  },
  {
   "cell_type": "markdown",
   "metadata": {},
   "source": [
    "## Part F: Summary\n",
    "\n",
    "Print the validation accuracies for each of the three models, clearly indicating which is which. "
   ]
  },
  {
   "cell_type": "code",
   "execution_count": 54,
   "metadata": {},
   "outputs": [
    {
     "name": "stdout",
     "output_type": "stream",
     "text": [
      "Logistic Regression Calculations \n",
      "Validation Accuracy: 0.3672922252010724\n",
      "Training Accuracy: 0.3672922252010724\n",
      "Decision Tree Calculations \n",
      "Validation Accuracy: 0.7446808510638298\n",
      "Training Accuracy: 0.8310991957104558\n",
      "Random Forest Model Calculations \n",
      "Validation Accuracy: 0.9042553191489362\n",
      "Training Accuracy: 0.9571045576407506\n"
     ]
    }
   ],
   "source": [
    "print(\"Logistic Regression Calculations \\nValidation Accuracy:\", logisticM.score(X_train, y_num_train))\n",
    "print(\"Training Accuracy:\",logisticM.score(X_train, y_num_train))\n",
    "\n",
    "print(\"Decision Tree Calculations \\nValidation Accuracy:\", TreeModel.score(X_val, y_num_val))\n",
    "print(\"Training Accuracy:\",TreeModel.score(X_train, y_num_train))\n",
    "\n",
    "print(\"Random Forest Model Calculations \\nValidation Accuracy:\", rfmodel2.score(X_val, y_num_val))\n",
    "print(\"Training Accuracy:\",rfmodel2.score(X_train, y_num_train))"
   ]
  },
  {
   "cell_type": "code",
   "execution_count": null,
   "metadata": {},
   "outputs": [],
   "source": []
  }
 ],
 "metadata": {
  "kernelspec": {
   "display_name": "Python 3",
   "language": "python",
   "name": "python3"
  },
  "language_info": {
   "codemirror_mode": {
    "name": "ipython",
    "version": 3
   },
   "file_extension": ".py",
   "mimetype": "text/x-python",
   "name": "python",
   "nbconvert_exporter": "python",
   "pygments_lexer": "ipython3",
   "version": "3.7.3"
  }
 },
 "nbformat": 4,
 "nbformat_minor": 2
}

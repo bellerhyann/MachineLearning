{
 "cells": [
  {
   "cell_type": "markdown",
   "metadata": {},
   "source": [
    "## Homework 01 \n",
    "Belle Erhardt\n",
    "\n",
    "**DSCI 35600 - Machine Learning**\n",
    "\n",
    "** Due Monday,  Feb. 08**"
   ]
  },
  {
   "cell_type": "markdown",
   "metadata": {},
   "source": [
    "### Part 1: List Implementation\n",
    "\n",
    "In the cell below, write a function called `predict1`. It should take two parameters, `beta` and `X`. \n",
    "* `beta` is intended to be a list of (not necessarily optimal) model parameters $b_0, b_1, b_2, ..., b_p$. \n",
    "* `X` will be a list of lists. Each sublist will represent feature values $x^{(1)}_i, x^{(2)}_i, ..., x^{(p)}_i$ for one of the $n$ observations. \n",
    "\n",
    "The function should return a list `y_hat` that contains the predicted $y$ values for each of the $n$ observations. These predicted values are calculated as follows: $\\hat{y}_i = b_0 + b_1 x^{(1)}_i + b_2 x^{(2)}_i + ... + b_p x^{(p)}_i$. Pseudocode and some hints will be provided in the HW 01 supplement notebook."
   ]
  },
  {
   "cell_type": "code",
   "execution_count": 5,
   "metadata": {},
   "outputs": [],
   "source": [
    "def predict1(beta, X):\n",
    "    y_hat=[]\n",
    "    betaCopy = beta.copy()\n",
    "    total=0\n",
    "    \n",
    "    for row in X:\n",
    "           row_copy = row.copy()\n",
    "           row_copy.insert(0, 1)\n",
    "           total = 0\n",
    "           \n",
    "           for k in range(0, len(row_copy)):\n",
    "                total+=row_copy[k]*betaCopy[k]\n",
    "           y_hat.append(total)\n",
    "           #y_hat.append(total)\n",
    "        \n",
    "    return y_hat\n"
   ]
  },
  {
   "cell_type": "markdown",
   "metadata": {},
   "source": [
    "Two lists called `X_list` and `beta_list` are defined in the cell below. Pass these to the function `predict1` and print the results. "
   ]
  },
  {
   "cell_type": "code",
   "execution_count": 6,
   "metadata": {},
   "outputs": [
    {
     "name": "stdout",
     "output_type": "stream",
     "text": [
      "[4.3, 2.3, 3.4, 4.7, 1.7]\n"
     ]
    }
   ],
   "source": [
    "X_list = [[7, 3, 8], [1, 5, 6], [3, 5, 9], [6, 1, 7], [2, 3, 1]]\n",
    "beta_list = [2.4, 0.1, -0.4, 0.3]\n",
    "print(predict1(beta_list,X_list))"
   ]
  },
  {
   "cell_type": "markdown",
   "metadata": {},
   "source": [
    "In the cell below, create a function called `sse1`. This function should take three paramaters: `beta`, `X`, and `y`. \n",
    "* The parameters `beta` and `X` will be defined as they were in the function `predict1`. \n",
    "* `y` should be a list with $n$ entries containing the true $y$ values for each of the $n$ observations. \n",
    "\n",
    "This function should calculate and return the SSE loss for the model defined by `beta`, as calculated on the dataset given by `X` and `y`. Pseudocode is provided in the supplement."
   ]
  },
  {
   "cell_type": "code",
   "execution_count": 7,
   "metadata": {},
   "outputs": [],
   "source": [
    "def sse1(beta, X, y):\n",
    "    sse= 0\n",
    "    y_hat = predict1(beta, X)\n",
    "    for k in range(0, len(y)):\n",
    "       sse += (y[k] - y_hat[k])**2\n",
    "    return sse"
   ]
  },
  {
   "cell_type": "markdown",
   "metadata": {},
   "source": [
    "A list called `y_list` is defined in the cell below. Pass `beta_list`, `X_list`, and `y_list` to `sse1` and print the results."
   ]
  },
  {
   "cell_type": "code",
   "execution_count": 8,
   "metadata": {},
   "outputs": [
    {
     "data": {
      "text/plain": [
       "5.320000000000001"
      ]
     },
     "execution_count": 8,
     "metadata": {},
     "output_type": "execute_result"
    }
   ],
   "source": [
    "y_list = [5, 2, 5, 4, 3]\n",
    "sse1(beta_list, X_list, y_list)\n",
    "#should return 5.3200000000001"
   ]
  },
  {
   "cell_type": "markdown",
   "metadata": {},
   "source": [
    "### Part 2: Array Implementation\n",
    "\n",
    "In this part, you will be asked to implement the predict and loss functions of a linear regression model using NumPy arrays. Begin by importing `numpy` under the alias `np`."
   ]
  },
  {
   "cell_type": "markdown",
   "metadata": {},
   "source": [
    "In the cell below, use the lists `X_list`, `y_list`, and `beta_list` to create arrays `X_array`, `y_array`, and `beta_array`.  Print the shape of each of these arrays, along with some text explain which shape is associated with which array."
   ]
  },
  {
   "cell_type": "code",
   "execution_count": 13,
   "metadata": {},
   "outputs": [
    {
     "name": "stdout",
     "output_type": "stream",
     "text": [
      "the X_array shape (5, 3)\n",
      "the y_array shape (5,)\n",
      "the beta_array shape (4,)\n"
     ]
    }
   ],
   "source": [
    "import numpy as np\n",
    "\n",
    "#def np.array(X_list,y_list,beta_list):\n",
    "X_array = np.array(X_list)\n",
    "y_array = np.array(y_list)\n",
    "   \n",
    "beta_array = np.array(beta_list)\n",
    "    \n",
    "print(\"the X_array shape\" ,X_array.shape)\n",
    "print(\"the y_array shape\" ,y_array.shape)\n",
    "print(\"the beta_array shape\" ,beta_array.shape)\n",
    "\n",
    "    "
   ]
  },
  {
   "cell_type": "markdown",
   "metadata": {},
   "source": [
    "In the cell below, write a function called `predict2`. It should take two parameters, `beta` and `X`. \n",
    "* `beta` is intended to be an array of (not necessarily optimal) model parameters $b_0, b_1, b_2, ..., b_p$. \n",
    "* `X` will be a 2D feature array with one row for each of the $n$ observations, and one column for each of the $p$ features. \n",
    "\n",
    "The function should return an array `y_hat` that contains the predicted $y$ values for each of the $n$ observations. This array should have the same shape as `y`, which is `(n,)`. **This function should make use of NumPy, and should not use any loops.** Pseudocode and some hints will be provided in the HW 01 supplement notebook."
   ]
  },
  {
   "cell_type": "code",
   "execution_count": 21,
   "metadata": {},
   "outputs": [],
   "source": [
    "def predict2(beta, X):\n",
    "    X_copy = X.copy()\n",
    "    ones = np.ones((X.shape[0], 1))\n",
    "    X_copy = np.hstack((ones, X_copy)) #print(X_copy)\n",
    "    y_hat = np.dot(X_copy, np.transpose(beta))\n",
    "    return y_hat\n"
   ]
  },
  {
   "cell_type": "markdown",
   "metadata": {},
   "source": [
    "Pass `X_array` and `beta_array` to `predict2` and print the results. "
   ]
  },
  {
   "cell_type": "code",
   "execution_count": 22,
   "metadata": {},
   "outputs": [
    {
     "name": "stdout",
     "output_type": "stream",
     "text": [
      "these are predictions y_hat  [4.3 2.3 3.4 4.7 1.7]\n"
     ]
    }
   ],
   "source": [
    "print('these are predictions y_hat ', predict2(beta_array, X_array))"
   ]
  },
  {
   "cell_type": "markdown",
   "metadata": {},
   "source": [
    "In the cell below, create a function called `sse2`. This function should take three paramaters: `beta`, `X`, and `y`. \n",
    "* The parameters `beta` and `X` will be defined as they were in the function `predict2`. \n",
    "* `y` should be an array with $n$ entries containing the true $y$ values for each of the $n$ observations. \n",
    "\n",
    "This function should calculate and return the SSE loss for the model defined by `beta`, as calculated on the dataset given by `X` and `y`. **This function should make use of NumPy, and should not use any loops.** Pseudocode is provided in the supplement."
   ]
  },
  {
   "cell_type": "code",
   "execution_count": 23,
   "metadata": {},
   "outputs": [],
   "source": [
    "def sse2(beta, X, y):\n",
    "    y_hat=predict2(beta, X)\n",
    "    error=y_hat-y\n",
    "    sse=np.sum(error**2)\n",
    "    return sse    \n"
   ]
  },
  {
   "cell_type": "markdown",
   "metadata": {},
   "source": [
    "Pass `beta_array`, `X_array`, and `y_array` to `sse2` and print the results."
   ]
  },
  {
   "cell_type": "code",
   "execution_count": 24,
   "metadata": {},
   "outputs": [
    {
     "name": "stdout",
     "output_type": "stream",
     "text": [
      "5.320000000000001\n"
     ]
    }
   ],
   "source": [
    "y_array = np.array([5, 2, 5, 4, 3])\n",
    "ssee = sse2(beta_array, X_array, y_array )\n",
    "print(ssee) "
   ]
  },
  {
   "cell_type": "markdown",
   "metadata": {
    "collapsed": true
   },
   "source": [
    "### Part 3: Minimizing SSE"
   ]
  },
  {
   "cell_type": "markdown",
   "metadata": {},
   "source": [
    "Create an array called `beta_array2` with shape `(4,)`. The values in this array should be similar to those in `beta_array`, but each entry should be shifted upward or downward by 0.1. Pass this new array, along with `X_array` and `y_array` to the function `sse2`. \n",
    "\n",
    "Your goal is find a new coefficicent array (i.e. model) that produces a lower value for the loss. Set the values of `beta_array2` to try to get the loss as small as possible, considering only arrays of the form $\\left[ (2.4 \\pm 0.1), (0.1 \\pm 0.1), (-0.4\\pm 0.1), (0.3\\pm 0.1) \\right]$"
   ]
  },
  {
   "cell_type": "code",
   "execution_count": 27,
   "metadata": {},
   "outputs": [
    {
     "name": "stdout",
     "output_type": "stream",
     "text": [
      "4.160000000000004\n"
     ]
    }
   ],
   "source": [
    "beta_array2 = np.array([2.4+.1, 0.1+.1, -0.4+.1, 0.3-.1])\n",
    "ssee = sse2(beta_array2, X_array, y_array )\n",
    "print(ssee) "
   ]
  },
  {
   "cell_type": "markdown",
   "metadata": {},
   "source": [
    "Replace the blanks in the code below to use Scikit-Learn to find the optimal parameter values. Print these. "
   ]
  },
  {
   "cell_type": "code",
   "execution_count": 32,
   "metadata": {
    "scrolled": true
   },
   "outputs": [
    {
     "name": "stdout",
     "output_type": "stream",
     "text": [
      "[0.52305476 0.39193084 0.02161383]\n",
      "0.3458213256484135\n"
     ]
    }
   ],
   "source": [
    "from sklearn.linear_model import LinearRegression\n",
    "\n",
    "model = LinearRegression()\n",
    "model.fit(X_array, y_array)\n",
    "\n",
    "print(model.coef_)\n",
    "print(model.intercept_)"
   ]
  },
  {
   "cell_type": "markdown",
   "metadata": {},
   "source": [
    "In the cell below, create a single array called `beta_opt` that contains the optimal parameter values found by Scikit-Learn. Pass `beta_opt`, `X_array`, and `y_array` to the function `sse2`. "
   ]
  },
  {
   "cell_type": "code",
   "execution_count": 33,
   "metadata": {},
   "outputs": [
    {
     "name": "stdout",
     "output_type": "stream",
     "text": [
      "2.0806916426512974\n"
     ]
    }
   ],
   "source": [
    "beta_opt=np.hstack( ([model.intercept_] , model.coef_) )\n",
    "beta_opt=np.array(beta_opt)\n",
    "ssee = sse2(beta_opt, X_array, y_array )\n",
    "print(ssee) "
   ]
  },
  {
   "cell_type": "code",
   "execution_count": null,
   "metadata": {},
   "outputs": [],
   "source": []
  }
 ],
 "metadata": {
  "kernelspec": {
   "display_name": "Python 3",
   "language": "python",
   "name": "python3"
  },
  "language_info": {
   "codemirror_mode": {
    "name": "ipython",
    "version": 3
   },
   "file_extension": ".py",
   "mimetype": "text/x-python",
   "name": "python",
   "nbconvert_exporter": "python",
   "pygments_lexer": "ipython3",
   "version": "3.8.3"
  }
 },
 "nbformat": 4,
 "nbformat_minor": 2
}
